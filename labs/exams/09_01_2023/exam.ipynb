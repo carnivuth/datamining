{
 "cells": [
  {
   "cell_type": "markdown",
   "metadata": {},
   "source": [
    "# IMPORTS"
   ]
  },
  {
   "cell_type": "code",
   "execution_count": 137,
   "metadata": {},
   "outputs": [],
   "source": [
    "import pandas as pd\n",
    "import numpy as np\n",
    "from sklearn.tree import DecisionTreeClassifier\n",
    "from sklearn.linear_model import Perceptron\n",
    "from sklearn.model_selection import GridSearchCV, train_test_split\n",
    "from sklearn.metrics import ConfusionMatrixDisplay,f1_score\n",
    "\n",
    "rs=43"
   ]
  },
  {
   "cell_type": "markdown",
   "metadata": {},
   "source": [
    "# DATA ESPLORATION\n",
    "1. Load the data file and explore the data, showing size, data descriptions, data distributions with boxplot, pairplots\n"
   ]
  },
  {
   "cell_type": "code",
   "execution_count": 138,
   "metadata": {},
   "outputs": [],
   "source": [
    "names= ['Index','Sex','Length','Diameter','Height','Whole weight','Shucked weight','Viscera weight','Shell weight','Rings']\n",
    "df=pd.read_csv('./09-01-23.csv',names=names)\n"
   ]
  },
  {
   "cell_type": "code",
   "execution_count": 139,
   "metadata": {},
   "outputs": [
    {
     "data": {
      "text/html": [
       "<div>\n",
       "<style scoped>\n",
       "    .dataframe tbody tr th:only-of-type {\n",
       "        vertical-align: middle;\n",
       "    }\n",
       "\n",
       "    .dataframe tbody tr th {\n",
       "        vertical-align: top;\n",
       "    }\n",
       "\n",
       "    .dataframe thead th {\n",
       "        text-align: right;\n",
       "    }\n",
       "</style>\n",
       "<table border=\"1\" class=\"dataframe\">\n",
       "  <thead>\n",
       "    <tr style=\"text-align: right;\">\n",
       "      <th></th>\n",
       "      <th>Index</th>\n",
       "      <th>Sex</th>\n",
       "      <th>Length</th>\n",
       "      <th>Diameter</th>\n",
       "      <th>Height</th>\n",
       "      <th>Whole weight</th>\n",
       "      <th>Shucked weight</th>\n",
       "      <th>Viscera weight</th>\n",
       "      <th>Shell weight</th>\n",
       "      <th>Rings</th>\n",
       "    </tr>\n",
       "  </thead>\n",
       "  <tbody>\n",
       "    <tr>\n",
       "      <th>0</th>\n",
       "      <td>0</td>\n",
       "      <td>M</td>\n",
       "      <td>0.455</td>\n",
       "      <td>0.365</td>\n",
       "      <td>0.095</td>\n",
       "      <td>0.514</td>\n",
       "      <td>0.2245</td>\n",
       "      <td>0.1010</td>\n",
       "      <td>0.150</td>\n",
       "      <td>2.0</td>\n",
       "    </tr>\n",
       "    <tr>\n",
       "      <th>1</th>\n",
       "      <td>1</td>\n",
       "      <td>M</td>\n",
       "      <td>0.350</td>\n",
       "      <td>0.265</td>\n",
       "      <td>0.090</td>\n",
       "      <td>NaN</td>\n",
       "      <td>0.0995</td>\n",
       "      <td>0.0485</td>\n",
       "      <td>0.070</td>\n",
       "      <td>0.0</td>\n",
       "    </tr>\n",
       "    <tr>\n",
       "      <th>2</th>\n",
       "      <td>2</td>\n",
       "      <td>F</td>\n",
       "      <td>0.530</td>\n",
       "      <td>0.420</td>\n",
       "      <td>0.135</td>\n",
       "      <td>NaN</td>\n",
       "      <td>0.2565</td>\n",
       "      <td>0.1415</td>\n",
       "      <td>0.210</td>\n",
       "      <td>1.0</td>\n",
       "    </tr>\n",
       "    <tr>\n",
       "      <th>3</th>\n",
       "      <td>3</td>\n",
       "      <td>M</td>\n",
       "      <td>0.440</td>\n",
       "      <td>0.365</td>\n",
       "      <td>0.125</td>\n",
       "      <td>0.516</td>\n",
       "      <td>0.2155</td>\n",
       "      <td>0.1140</td>\n",
       "      <td>0.155</td>\n",
       "      <td>1.0</td>\n",
       "    </tr>\n",
       "    <tr>\n",
       "      <th>4</th>\n",
       "      <td>4</td>\n",
       "      <td>I</td>\n",
       "      <td>0.330</td>\n",
       "      <td>0.255</td>\n",
       "      <td>0.080</td>\n",
       "      <td>0.205</td>\n",
       "      <td>0.0895</td>\n",
       "      <td>0.0395</td>\n",
       "      <td>0.055</td>\n",
       "      <td>0.0</td>\n",
       "    </tr>\n",
       "  </tbody>\n",
       "</table>\n",
       "</div>"
      ],
      "text/plain": [
       "   Index Sex  Length  Diameter  Height  Whole weight  Shucked weight  \\\n",
       "0      0   M   0.455     0.365   0.095         0.514          0.2245   \n",
       "1      1   M   0.350     0.265   0.090           NaN          0.0995   \n",
       "2      2   F   0.530     0.420   0.135           NaN          0.2565   \n",
       "3      3   M   0.440     0.365   0.125         0.516          0.2155   \n",
       "4      4   I   0.330     0.255   0.080         0.205          0.0895   \n",
       "\n",
       "   Viscera weight  Shell weight  Rings  \n",
       "0          0.1010         0.150    2.0  \n",
       "1          0.0485         0.070    0.0  \n",
       "2          0.1415         0.210    1.0  \n",
       "3          0.1140         0.155    1.0  \n",
       "4          0.0395         0.055    0.0  "
      ]
     },
     "execution_count": 139,
     "metadata": {},
     "output_type": "execute_result"
    }
   ],
   "source": [
    "df.head()"
   ]
  },
  {
   "cell_type": "code",
   "execution_count": 140,
   "metadata": {},
   "outputs": [
    {
     "data": {
      "text/html": [
       "<div>\n",
       "<style scoped>\n",
       "    .dataframe tbody tr th:only-of-type {\n",
       "        vertical-align: middle;\n",
       "    }\n",
       "\n",
       "    .dataframe tbody tr th {\n",
       "        vertical-align: top;\n",
       "    }\n",
       "\n",
       "    .dataframe thead th {\n",
       "        text-align: right;\n",
       "    }\n",
       "</style>\n",
       "<table border=\"1\" class=\"dataframe\">\n",
       "  <thead>\n",
       "    <tr style=\"text-align: right;\">\n",
       "      <th></th>\n",
       "      <th>Index</th>\n",
       "      <th>Length</th>\n",
       "      <th>Diameter</th>\n",
       "      <th>Height</th>\n",
       "      <th>Whole weight</th>\n",
       "      <th>Shucked weight</th>\n",
       "      <th>Viscera weight</th>\n",
       "      <th>Shell weight</th>\n",
       "      <th>Rings</th>\n",
       "    </tr>\n",
       "  </thead>\n",
       "  <tbody>\n",
       "    <tr>\n",
       "      <th>count</th>\n",
       "      <td>4177.000000</td>\n",
       "      <td>3997.000000</td>\n",
       "      <td>3976.000000</td>\n",
       "      <td>3987.000000</td>\n",
       "      <td>3990.000000</td>\n",
       "      <td>3983.000000</td>\n",
       "      <td>4002.000000</td>\n",
       "      <td>3990.000000</td>\n",
       "      <td>4177.000000</td>\n",
       "    </tr>\n",
       "    <tr>\n",
       "      <th>mean</th>\n",
       "      <td>2088.000000</td>\n",
       "      <td>0.525330</td>\n",
       "      <td>0.408448</td>\n",
       "      <td>0.139669</td>\n",
       "      <td>0.830577</td>\n",
       "      <td>0.360681</td>\n",
       "      <td>0.180995</td>\n",
       "      <td>0.239796</td>\n",
       "      <td>0.861623</td>\n",
       "    </tr>\n",
       "    <tr>\n",
       "      <th>std</th>\n",
       "      <td>1205.940366</td>\n",
       "      <td>0.119569</td>\n",
       "      <td>0.098728</td>\n",
       "      <td>0.041988</td>\n",
       "      <td>0.490629</td>\n",
       "      <td>0.221100</td>\n",
       "      <td>0.109425</td>\n",
       "      <td>0.139765</td>\n",
       "      <td>0.762510</td>\n",
       "    </tr>\n",
       "    <tr>\n",
       "      <th>min</th>\n",
       "      <td>0.000000</td>\n",
       "      <td>0.075000</td>\n",
       "      <td>0.055000</td>\n",
       "      <td>0.000000</td>\n",
       "      <td>0.002000</td>\n",
       "      <td>0.001000</td>\n",
       "      <td>0.000500</td>\n",
       "      <td>0.001500</td>\n",
       "      <td>0.000000</td>\n",
       "    </tr>\n",
       "    <tr>\n",
       "      <th>25%</th>\n",
       "      <td>1044.000000</td>\n",
       "      <td>0.450000</td>\n",
       "      <td>0.350000</td>\n",
       "      <td>0.115000</td>\n",
       "      <td>0.444500</td>\n",
       "      <td>0.188000</td>\n",
       "      <td>0.094000</td>\n",
       "      <td>0.130000</td>\n",
       "      <td>0.000000</td>\n",
       "    </tr>\n",
       "    <tr>\n",
       "      <th>50%</th>\n",
       "      <td>2088.000000</td>\n",
       "      <td>0.545000</td>\n",
       "      <td>0.425000</td>\n",
       "      <td>0.140000</td>\n",
       "      <td>0.802250</td>\n",
       "      <td>0.339000</td>\n",
       "      <td>0.171500</td>\n",
       "      <td>0.235000</td>\n",
       "      <td>1.000000</td>\n",
       "    </tr>\n",
       "    <tr>\n",
       "      <th>75%</th>\n",
       "      <td>3132.000000</td>\n",
       "      <td>0.615000</td>\n",
       "      <td>0.480000</td>\n",
       "      <td>0.165000</td>\n",
       "      <td>1.154375</td>\n",
       "      <td>0.503250</td>\n",
       "      <td>0.253500</td>\n",
       "      <td>0.330000</td>\n",
       "      <td>1.000000</td>\n",
       "    </tr>\n",
       "    <tr>\n",
       "      <th>max</th>\n",
       "      <td>4176.000000</td>\n",
       "      <td>0.815000</td>\n",
       "      <td>0.650000</td>\n",
       "      <td>1.130000</td>\n",
       "      <td>2.825500</td>\n",
       "      <td>1.488000</td>\n",
       "      <td>0.760000</td>\n",
       "      <td>1.005000</td>\n",
       "      <td>3.000000</td>\n",
       "    </tr>\n",
       "  </tbody>\n",
       "</table>\n",
       "</div>"
      ],
      "text/plain": [
       "             Index       Length     Diameter       Height  Whole weight  \\\n",
       "count  4177.000000  3997.000000  3976.000000  3987.000000   3990.000000   \n",
       "mean   2088.000000     0.525330     0.408448     0.139669      0.830577   \n",
       "std    1205.940366     0.119569     0.098728     0.041988      0.490629   \n",
       "min       0.000000     0.075000     0.055000     0.000000      0.002000   \n",
       "25%    1044.000000     0.450000     0.350000     0.115000      0.444500   \n",
       "50%    2088.000000     0.545000     0.425000     0.140000      0.802250   \n",
       "75%    3132.000000     0.615000     0.480000     0.165000      1.154375   \n",
       "max    4176.000000     0.815000     0.650000     1.130000      2.825500   \n",
       "\n",
       "       Shucked weight  Viscera weight  Shell weight        Rings  \n",
       "count     3983.000000     4002.000000   3990.000000  4177.000000  \n",
       "mean         0.360681        0.180995      0.239796     0.861623  \n",
       "std          0.221100        0.109425      0.139765     0.762510  \n",
       "min          0.001000        0.000500      0.001500     0.000000  \n",
       "25%          0.188000        0.094000      0.130000     0.000000  \n",
       "50%          0.339000        0.171500      0.235000     1.000000  \n",
       "75%          0.503250        0.253500      0.330000     1.000000  \n",
       "max          1.488000        0.760000      1.005000     3.000000  "
      ]
     },
     "execution_count": 140,
     "metadata": {},
     "output_type": "execute_result"
    }
   ],
   "source": [
    "df.describe()"
   ]
  },
  {
   "cell_type": "code",
   "execution_count": 141,
   "metadata": {},
   "outputs": [
    {
     "name": "stdout",
     "output_type": "stream",
     "text": [
      "<class 'pandas.core.frame.DataFrame'>\n",
      "RangeIndex: 4177 entries, 0 to 4176\n",
      "Data columns (total 10 columns):\n",
      " #   Column          Non-Null Count  Dtype  \n",
      "---  ------          --------------  -----  \n",
      " 0   Index           4177 non-null   int64  \n",
      " 1   Sex             4177 non-null   object \n",
      " 2   Length          3997 non-null   float64\n",
      " 3   Diameter        3976 non-null   float64\n",
      " 4   Height          3987 non-null   float64\n",
      " 5   Whole weight    3990 non-null   float64\n",
      " 6   Shucked weight  3983 non-null   float64\n",
      " 7   Viscera weight  4002 non-null   float64\n",
      " 8   Shell weight    3990 non-null   float64\n",
      " 9   Rings           4177 non-null   float64\n",
      "dtypes: float64(8), int64(1), object(1)\n",
      "memory usage: 326.5+ KB\n"
     ]
    }
   ],
   "source": [
    "df.info()"
   ]
  },
  {
   "cell_type": "code",
   "execution_count": 142,
   "metadata": {},
   "outputs": [
    {
     "data": {
      "text/plain": [
       "array([[<Axes: title={'center': 'Index'}>,\n",
       "        <Axes: title={'center': 'Length'}>,\n",
       "        <Axes: title={'center': 'Diameter'}>],\n",
       "       [<Axes: title={'center': 'Height'}>,\n",
       "        <Axes: title={'center': 'Whole weight'}>,\n",
       "        <Axes: title={'center': 'Shucked weight'}>],\n",
       "       [<Axes: title={'center': 'Viscera weight'}>,\n",
       "        <Axes: title={'center': 'Shell weight'}>,\n",
       "        <Axes: title={'center': 'Rings'}>]], dtype=object)"
      ]
     },
     "execution_count": 142,
     "metadata": {},
     "output_type": "execute_result"
    },
    {
     "data": {
      "image/png": "[encoded data removed]",
      "text/plain": [
       "<Figure size 640x480 with 9 Axes>"
      ]
     },
     "metadata": {},
     "output_type": "display_data"
    }
   ],
   "source": [
    "df.hist()"
   ]
  },
  {
   "cell_type": "markdown",
   "metadata": {},
   "source": [
    "2. Comment the exploration of step 1 pointing out if there are imbalanced distributions, outliers, missing values"
   ]
  },
  {
   "cell_type": "markdown",
   "metadata": {},
   "source": [
    "there are some unbalanced distributions in the attributes\n",
    "\n",
    "- Height\n",
    "- rings\n",
    "\n",
    "there are also some missing values"
   ]
  },
  {
   "cell_type": "markdown",
   "metadata": {},
   "source": [
    "# PREPROCESING\n",
    "3. Drop the columns that are not relevant for the classification operation, if any, and explain why you do that. Deal with missing values, if any"
   ]
  },
  {
   "cell_type": "code",
   "execution_count": 143,
   "metadata": {},
   "outputs": [
    {
     "name": "stdout",
     "output_type": "stream",
     "text": [
      "the size of the new dataset is (3052, 9)\n"
     ]
    }
   ],
   "source": [
    "## dropping index colum cause it's not useful to model selection\n",
    "df.drop(inplace=True, columns='Index')\n",
    "\n",
    "## converting some columns\n",
    "df['Sex']=df['Sex'].astype(bool)\n",
    "## removing missing values\n",
    "df.dropna(inplace=True)\n",
    "print(\"the size of the new dataset is {}\".format(df.shape))"
   ]
  },
  {
   "cell_type": "markdown",
   "metadata": {},
   "source": [
    "# MODEL SELECTION\n",
    "4. find the best classification scheme considering two classification methods, find the best hyperparameters using cross validation; the optimization must be focused on the f1_macro measure"
   ]
  },
  {
   "cell_type": "code",
   "execution_count": 144,
   "metadata": {},
   "outputs": [],
   "source": [
    "# splitting dataset\n",
    "target='Rings'\n",
    "X=df.drop(columns=target)\n",
    "y=df[target]\n",
    "\n",
    "X_train,X_test,y_train,y_test=train_test_split(X,y)"
   ]
  },
  {
   "cell_type": "code",
   "execution_count": 145,
   "metadata": {},
   "outputs": [],
   "source": [
    "# defining data structures\n",
    "score='f1_macro'\n",
    "model_names=['dt','lp']\n",
    "models={\n",
    "    'dt':{\n",
    "        'name':'Decision tree',\n",
    "        'estimator':DecisionTreeClassifier(random_state=rs),\n",
    "        'parameters': [{'max_depth':range(1,20,1),'class_weight':[None,'balanced' ]}]\n",
    "    },\n",
    "    'lp':{\n",
    "        'name':'Linear perceptron',\n",
    "        'estimator':Perceptron(random_state=rs),\n",
    "        'parameters': [{'early_stopping':[True,False],'class_weight':[None,'balanced' ]}]\n",
    "    }\n",
    "}\n",
    "gscvs=[]\n",
    "results=pd.DataFrame(columns=['model_name','best_estimator','best_params','f1_macro'])"
   ]
  },
  {
   "cell_type": "code",
   "execution_count": 146,
   "metadata": {},
   "outputs": [
    {
     "name": "stdout",
     "output_type": "stream",
     "text": [
      "model_name                                                       dt\n",
      "best_estimator    DecisionTreeClassifier(max_depth=10, random_st...\n",
      "best_params                 {'class_weight': None, 'max_depth': 10}\n",
      "f1_macro                                                   0.612058\n",
      "Name: 0, dtype: object\n"
     ]
    }
   ],
   "source": [
    "for model in model_names:\n",
    "    gs= GridSearchCV(models[model]['estimator'],models[model]['parameters'],scoring=score)\n",
    "    gs.fit(X_train,y_train)\n",
    "    \n",
    "    gscvs.append(gs)\n",
    "    results.loc[len(results)]=[\n",
    "        model,\n",
    "        gs.best_estimator_,\n",
    "        gs.best_params_,\n",
    "        f1_score(y_test,gs.predict(X_test),average='micro')\n",
    "\n",
    "    ]\n",
    "best_estimator=results.f1_macro.idxmax()\n",
    "print(results.loc[best_estimator])"
   ]
  },
  {
   "cell_type": "markdown",
   "metadata": {},
   "source": [
    "# SHOW RESULTS\n",
    "5. Show the performance measures and the confusion matrices for the best hyperparameters of each model"
   ]
  },
  {
   "cell_type": "code",
   "execution_count": 147,
   "metadata": {},
   "outputs": [
    {
     "data": {
      "image/png": "[encoded data removed]",
      "text/plain": [
       "<Figure size 640x480 with 2 Axes>"
      ]
     },
     "metadata": {},
     "output_type": "display_data"
    },
    {
     "data": {
      "image/png": "[encoded data removed]",
      "text/plain": [
       "<Figure size 640x480 with 2 Axes>"
      ]
     },
     "metadata": {},
     "output_type": "display_data"
    }
   ],
   "source": [
    "for gs in gscvs:\n",
    "    ConfusionMatrixDisplay.from_estimator(gs,X_test,y_test)\n",
    "    "
   ]
  },
  {
   "cell_type": "markdown",
   "metadata": {},
   "source": [
    "6. Comment the results\n",
    "\n",
    "models seems to be more capable for certain values of the target, one of the causes can be the lack of rappresetation of certain classes in the dataset as shown from the histogram"
   ]
  }
 ],
 "metadata": {
  "kernelspec": {
   "display_name": "env",
   "language": "python",
   "name": "python3"
  },
  "language_info": {
   "codemirror_mode": {
    "name": "ipython",
    "version": 3
   },
   "file_extension": ".py",
   "mimetype": "text/x-python",
   "name": "python",
   "nbconvert_exporter": "python",
   "pygments_lexer": "ipython3",
   "version": "3.11.7"
  }
 },
 "nbformat": 4,
 "nbformat_minor": 2
}
