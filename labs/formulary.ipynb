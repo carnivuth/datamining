{
 "cells": [
  {
   "cell_type": "markdown",
   "metadata": {},
   "source": [
    "# FORMULARY FOR LAB EXAM\n",
    "\n",
    "here are some useful code tooltips for the exam\n"
   ]
  },
  {
   "cell_type": "code",
   "execution_count": null,
   "metadata": {},
   "outputs": [],
   "source": [
    "# LIBRAIRES TO IMPORT\n",
    "\n",
    "#Pandas\n",
    "import pandas as pd\n",
    "#Pyplot\n",
    "import matplotlib.pyplot as plt\n",
    "#Figure\n",
    "from matplotlib.pyplot import figure\n",
    "#Seaborn\n",
    "import seaborn as sns\n",
    "#Numpy\n",
    "import numpy as np\n",
    "#train_test_split\n",
    "from sklearn.model_selection import train_test_split\n",
    "#Accuracy, Classification Report, Confusion Matrix\n",
    "from sklearn.metrics import accuracy_score, classification_report, confusion_matrix\n",
    "#Cross Validation Score, GridSearchCV, StratifiedKFold\n",
    "from sklearn.model_selection import cross_val_score,  GridSearchCV, StratifiedKFold\n",
    "#CofusionMatrixDisplay\n",
    "from sklearn.metrics import ConfusionMatrixDisplay\n",
    "#DT Classifier\n",
    "from sklearn.tree import DecisionTreeClassifier, plot_tree\n"
   ]
  },
  {
   "cell_type": "markdown",
   "metadata": {},
   "source": [
    "# LOADING DATASET\n",
    "\n",
    "before loading the dataset you need to explore it to understand his structure"
   ]
  },
  {
   "cell_type": "code",
   "execution_count": null,
   "metadata": {},
   "outputs": [],
   "source": [
    "# load from file\n",
    "path = \"path/to/datasetFile\"\n",
    "df = pd.read_csv(path)\n",
    "\n",
    "#if columns are not present than:\n",
    "names = ['names', 'list']\n",
    "df = pd.read_csv(path, names=names)\n",
    "\n",
    "# if separator is different from the default value (,) you need to specify it\n",
    "df = pd.read_csv(url, names = names, sep=\";\")\n"
   ]
  },
  {
   "cell_type": "code",
   "execution_count": null,
   "metadata": {},
   "outputs": [],
   "source": [
    "# load from drive mount\n",
    "\n",
    "# imports\n",
    "from google.colab import drive\n",
    "\n",
    "# next we need to mount the drive folder in order to load the file inside\n",
    "drive.mount('/content/drive')\n",
    "\n",
    "# path to drive file \n",
    "google_drive_path = 'link/to/google/dive/path'\n",
    "\n",
    "# load files\n",
    "train_ds = pd.read_csv(google_drive_path+'train.csv')\n",
    "test_ds = pd.read_csv(google_drive_path+'test.csv')"
   ]
  },
  {
   "cell_type": "markdown",
   "metadata": {},
   "source": [
    "# BASE COMMANDS"
   ]
  },
  {
   "cell_type": "code",
   "execution_count": null,
   "metadata": {},
   "outputs": [],
   "source": [
    "# INFO visualization\n",
    "\n",
    "# show number of rows (samples) and columns (features)\n",
    "\n",
    "(features) is {df.shape[1]}.\")\n",
    "\n",
    "# show in compact form\n",
    "\n",
    "df.shape\n",
    "\n",
    "# show columns names\n",
    "\n",
    "df.columns\n",
    "\n",
    "# show small set of data (default 5 rows)\n",
    "\n",
    "rows=5\n",
    "df.head(rows)\n",
    "\n",
    "df.describe()\n",
    "\n",
    "# show dataset histogram\n",
    "\n",
    "df.hist(figsize=(x,y))\t\t\n",
    "pd.DataFrame.hist(df, figsize=[x,y])\n",
    "\n",
    "# show histogram of target column \n",
    "\n",
    "plt.hist(df[target])\n",
    "\n",
    "plt.show()"
   ]
  }
 ],
 "metadata": {
  "language_info": {
   "name": "python"
  }
 },
 "nbformat": 4,
 "nbformat_minor": 2
}
